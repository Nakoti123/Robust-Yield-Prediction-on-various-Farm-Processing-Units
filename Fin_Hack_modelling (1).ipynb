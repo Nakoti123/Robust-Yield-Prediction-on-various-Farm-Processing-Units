{
  "cells": [
    {
      "cell_type": "markdown",
      "source": [
        "#Train the model"
      ],
      "metadata": {
        "id": "qyuqt8jC4CIQ"
      },
      "id": "qyuqt8jC4CIQ"
    },
    {
      "cell_type": "code",
      "execution_count": null,
      "id": "571ea3c8",
      "metadata": {
        "id": "571ea3c8"
      },
      "outputs": [],
      "source": [
        "import numpy as np #importing libraries\n",
        "import pandas as pd"
      ]
    },
    {
      "cell_type": "code",
      "execution_count": null,
      "id": "4e8a33ef",
      "metadata": {
        "id": "4e8a33ef",
        "outputId": "5e8ca36d-14b2-444c-948b-563e5b67735f"
      },
      "outputs": [
        {
          "name": "stdout",
          "output_type": "stream",
          "text": [
            "(12269895, 12)\n",
            "(12599384, 13)\n"
          ]
        }
      ],
      "source": [
        "#Loading train and test datasets\n",
        "train=pd.read_csv(\"model_train.csv\")\n",
        "test=pd.read_csv('model_test_data.csv')\n",
        "print(train.shape)\n",
        "print(test.shape)\n",
        "\n"
      ]
    },
    {
      "cell_type": "code",
      "execution_count": null,
      "id": "746c5a92",
      "metadata": {
        "id": "746c5a92",
        "outputId": "6a3d2d02-e905-409f-e5b3-16f43ecaf6f9"
      },
      "outputs": [
        {
          "data": {
            "text/html": [
              "<div>\n",
              "<style scoped>\n",
              "    .dataframe tbody tr th:only-of-type {\n",
              "        vertical-align: middle;\n",
              "    }\n",
              "\n",
              "    .dataframe tbody tr th {\n",
              "        vertical-align: top;\n",
              "    }\n",
              "\n",
              "    .dataframe thead th {\n",
              "        text-align: right;\n",
              "    }\n",
              "</style>\n",
              "<table border=\"1\" class=\"dataframe\">\n",
              "  <thead>\n",
              "    <tr style=\"text-align: right;\">\n",
              "      <th></th>\n",
              "      <th>date</th>\n",
              "      <th>id</th>\n",
              "      <th>farm_area</th>\n",
              "      <th>temp_obs</th>\n",
              "      <th>cloudiness</th>\n",
              "      <th>wind_direction</th>\n",
              "      <th>dew_temp</th>\n",
              "      <th>pressure_sea_level</th>\n",
              "      <th>precipitation</th>\n",
              "      <th>wind_speed</th>\n",
              "      <th>year</th>\n",
              "      <th>month</th>\n",
              "      <th>day</th>\n",
              "    </tr>\n",
              "  </thead>\n",
              "  <tbody>\n",
              "    <tr>\n",
              "      <th>0</th>\n",
              "      <td>2017-01-01 00:00:00</td>\n",
              "      <td>0</td>\n",
              "      <td>690.45510</td>\n",
              "      <td>17.8</td>\n",
              "      <td>4.0</td>\n",
              "      <td>100.0</td>\n",
              "      <td>11.7</td>\n",
              "      <td>1021.4</td>\n",
              "      <td>0.0</td>\n",
              "      <td>3.6</td>\n",
              "      <td>2017</td>\n",
              "      <td>1</td>\n",
              "      <td>1</td>\n",
              "    </tr>\n",
              "    <tr>\n",
              "      <th>1</th>\n",
              "      <td>2017-01-01 00:00:00</td>\n",
              "      <td>1</td>\n",
              "      <td>252.69617</td>\n",
              "      <td>17.8</td>\n",
              "      <td>4.0</td>\n",
              "      <td>100.0</td>\n",
              "      <td>11.7</td>\n",
              "      <td>1021.4</td>\n",
              "      <td>0.0</td>\n",
              "      <td>3.6</td>\n",
              "      <td>2017</td>\n",
              "      <td>1</td>\n",
              "      <td>1</td>\n",
              "    </tr>\n",
              "    <tr>\n",
              "      <th>2</th>\n",
              "      <td>2017-01-01 00:00:00</td>\n",
              "      <td>2</td>\n",
              "      <td>499.44653</td>\n",
              "      <td>17.8</td>\n",
              "      <td>4.0</td>\n",
              "      <td>100.0</td>\n",
              "      <td>11.7</td>\n",
              "      <td>1021.4</td>\n",
              "      <td>0.0</td>\n",
              "      <td>3.6</td>\n",
              "      <td>2017</td>\n",
              "      <td>1</td>\n",
              "      <td>1</td>\n",
              "    </tr>\n",
              "    <tr>\n",
              "      <th>3</th>\n",
              "      <td>2017-01-01 00:00:00</td>\n",
              "      <td>3</td>\n",
              "      <td>2200.40750</td>\n",
              "      <td>17.8</td>\n",
              "      <td>4.0</td>\n",
              "      <td>100.0</td>\n",
              "      <td>11.7</td>\n",
              "      <td>1021.4</td>\n",
              "      <td>0.0</td>\n",
              "      <td>3.6</td>\n",
              "      <td>2017</td>\n",
              "      <td>1</td>\n",
              "      <td>1</td>\n",
              "    </tr>\n",
              "    <tr>\n",
              "      <th>4</th>\n",
              "      <td>2017-01-01 00:00:00</td>\n",
              "      <td>4</td>\n",
              "      <td>10833.14000</td>\n",
              "      <td>17.8</td>\n",
              "      <td>4.0</td>\n",
              "      <td>100.0</td>\n",
              "      <td>11.7</td>\n",
              "      <td>1021.4</td>\n",
              "      <td>0.0</td>\n",
              "      <td>3.6</td>\n",
              "      <td>2017</td>\n",
              "      <td>1</td>\n",
              "      <td>1</td>\n",
              "    </tr>\n",
              "  </tbody>\n",
              "</table>\n",
              "</div>"
            ],
            "text/plain": [
              "                  date  id    farm_area  temp_obs  cloudiness  wind_direction  \\\n",
              "0  2017-01-01 00:00:00   0    690.45510      17.8         4.0           100.0   \n",
              "1  2017-01-01 00:00:00   1    252.69617      17.8         4.0           100.0   \n",
              "2  2017-01-01 00:00:00   2    499.44653      17.8         4.0           100.0   \n",
              "3  2017-01-01 00:00:00   3   2200.40750      17.8         4.0           100.0   \n",
              "4  2017-01-01 00:00:00   4  10833.14000      17.8         4.0           100.0   \n",
              "\n",
              "   dew_temp  pressure_sea_level  precipitation  wind_speed  year  month  day  \n",
              "0      11.7              1021.4            0.0         3.6  2017      1    1  \n",
              "1      11.7              1021.4            0.0         3.6  2017      1    1  \n",
              "2      11.7              1021.4            0.0         3.6  2017      1    1  \n",
              "3      11.7              1021.4            0.0         3.6  2017      1    1  \n",
              "4      11.7              1021.4            0.0         3.6  2017      1    1  "
            ]
          },
          "execution_count": 3,
          "metadata": {},
          "output_type": "execute_result"
        }
      ],
      "source": [
        "test.head()"
      ]
    },
    {
      "cell_type": "markdown",
      "source": [
        "Storing test['id'] values in ids for creating submission file"
      ],
      "metadata": {
        "id": "mu25_M7l7iiy"
      },
      "id": "mu25_M7l7iiy"
    },
    {
      "cell_type": "code",
      "execution_count": null,
      "id": "f78a6e63",
      "metadata": {
        "id": "f78a6e63",
        "outputId": "75e8aaa9-de80-4fe3-c8a6-ea66f0c5a091"
      },
      "outputs": [
        {
          "data": {
            "text/plain": [
              "(12599384,)"
            ]
          },
          "execution_count": 4,
          "metadata": {},
          "output_type": "execute_result"
        }
      ],
      "source": [
        "ids=test['id']\n",
        "ids.shape"
      ]
    },
    {
      "cell_type": "markdown",
      "source": [
        "Droping 'id', and 'date' from the test dataset"
      ],
      "metadata": {
        "id": "NZt4mWi_7vRh"
      },
      "id": "NZt4mWi_7vRh"
    },
    {
      "cell_type": "code",
      "execution_count": null,
      "id": "199288ec",
      "metadata": {
        "id": "199288ec"
      },
      "outputs": [],
      "source": [
        "test_df=test.drop(['id','date'],axis=1)"
      ]
    },
    {
      "cell_type": "code",
      "execution_count": null,
      "id": "88772958",
      "metadata": {
        "id": "88772958",
        "outputId": "06e1967d-d373-4150-ef8f-528b03f33b3e"
      },
      "outputs": [
        {
          "data": {
            "text/plain": [
              "(12599384, 11)"
            ]
          },
          "execution_count": 6,
          "metadata": {},
          "output_type": "execute_result"
        }
      ],
      "source": [
        "test_df.shape # checking shape of test data"
      ]
    },
    {
      "cell_type": "markdown",
      "source": [
        "**Split the data into training and validation sets, and train the model on the training set.**"
      ],
      "metadata": {
        "id": "Dv-KTdo_75rb"
      },
      "id": "Dv-KTdo_75rb"
    },
    {
      "cell_type": "code",
      "execution_count": null,
      "id": "a2580b9f",
      "metadata": {
        "id": "a2580b9f"
      },
      "outputs": [],
      "source": [
        "x=train.drop(['yield'],axis=1)\n",
        "y=train['yield']"
      ]
    },
    {
      "cell_type": "code",
      "execution_count": null,
      "id": "cd2fcd08",
      "metadata": {
        "id": "cd2fcd08",
        "outputId": "b95d34bf-d28e-4758-b496-ad9cdbaf6c3e"
      },
      "outputs": [
        {
          "name": "stdout",
          "output_type": "stream",
          "text": [
            "(8588926, 11)\n",
            "(3680969, 11)\n",
            "(8588926,)\n",
            "(3680969,)\n"
          ]
        }
      ],
      "source": [
        "from sklearn.model_selection import train_test_split\n",
        "x_train,x_test,y_train,y_test=train_test_split(x,y,test_size=0.3,random_state=50)\n",
        "print(x_train.shape)\n",
        "print(x_test.shape)\n",
        "print(y_train.shape)\n",
        "print(y_test.shape)"
      ]
    },
    {
      "cell_type": "markdown",
      "source": [
        "#Linear Regression"
      ],
      "metadata": {
        "id": "wI_qr7VB8Gfj"
      },
      "id": "wI_qr7VB8Gfj"
    },
    {
      "cell_type": "code",
      "execution_count": null,
      "id": "b1318fec",
      "metadata": {
        "id": "b1318fec",
        "outputId": "1c408a37-954b-4096-ac8d-d8cfff7a9427"
      },
      "outputs": [
        {
          "name": "stdout",
          "output_type": "stream",
          "text": [
            "Wall time: 3.33 s\n"
          ]
        }
      ],
      "source": [
        "%%time\n",
        "from sklearn.linear_model import LinearRegression\n",
        "lr= LinearRegression()\n",
        "lr.fit(x_train,y_train)\n",
        "predtrain=lr.predict(x_train)\n",
        "predtest=lr.predict(x_test)"
      ]
    },
    {
      "cell_type": "code",
      "execution_count": null,
      "id": "d3e801da",
      "metadata": {
        "id": "d3e801da"
      },
      "outputs": [],
      "source": [
        "# print(lr.coef_)"
      ]
    },
    {
      "cell_type": "code",
      "execution_count": null,
      "id": "44278f40",
      "metadata": {
        "id": "44278f40",
        "outputId": "538e9254-f34f-46c1-bb0d-ed525d255c70"
      },
      "outputs": [
        {
          "name": "stdout",
          "output_type": "stream",
          "text": [
            "RMSE for train: 320.9381155406899\n",
            "RMSE for test: 317.9513720347462\n"
          ]
        }
      ],
      "source": [
        "from sklearn.metrics import mean_squared_error\n",
        "print(\"RMSE for train:\",np.sqrt(mean_squared_error(y_train,predtrain)))\n",
        "print(\"RMSE for test:\",np.sqrt(mean_squared_error(y_test,predtest)))\n",
        "\n"
      ]
    },
    {
      "cell_type": "markdown",
      "source": [
        "#DecisionTreeRegressor"
      ],
      "metadata": {
        "id": "Bgu56x2R8LZB"
      },
      "id": "Bgu56x2R8LZB"
    },
    {
      "cell_type": "code",
      "execution_count": null,
      "id": "23fac327",
      "metadata": {
        "id": "23fac327",
        "outputId": "b9b7f4e0-660d-44b3-8674-674d6a759ed0"
      },
      "outputs": [
        {
          "name": "stdout",
          "output_type": "stream",
          "text": [
            "Wall time: 1min 48s\n"
          ]
        },
        {
          "data": {
            "text/plain": [
              "DecisionTreeRegressor()"
            ]
          },
          "execution_count": 12,
          "metadata": {},
          "output_type": "execute_result"
        }
      ],
      "source": [
        "%%time\n",
        "from sklearn.tree import DecisionTreeRegressor\n",
        "d=DecisionTreeRegressor()\n",
        "d.fit(x_train,y_train)"
      ]
    },
    {
      "cell_type": "code",
      "execution_count": null,
      "id": "a6ea069a",
      "metadata": {
        "id": "a6ea069a"
      },
      "outputs": [],
      "source": [
        "d_predtest=d.predict(x_test)\n",
        "d_predtrain=d.predict(x_train)"
      ]
    },
    {
      "cell_type": "code",
      "execution_count": null,
      "id": "0e0a7740",
      "metadata": {
        "id": "0e0a7740",
        "outputId": "b7b82411-c496-4955-eeb8-ff5f19132602"
      },
      "outputs": [
        {
          "name": "stdout",
          "output_type": "stream",
          "text": [
            "RMSE for train: 46.506993233336075\n",
            "RMSE for test: 142.1944527858935\n"
          ]
        }
      ],
      "source": [
        "print(\"RMSE for train:\",np.sqrt(mean_squared_error(y_train,d_predtrain)))\n",
        "print(\"RMSE for test:\",np.sqrt(mean_squared_error(y_test,d_predtest)))"
      ]
    },
    {
      "cell_type": "markdown",
      "source": [
        "#Ridge"
      ],
      "metadata": {
        "id": "5gH94hcr8Rtn"
      },
      "id": "5gH94hcr8Rtn"
    },
    {
      "cell_type": "code",
      "execution_count": null,
      "id": "ca2b8773",
      "metadata": {
        "id": "ca2b8773",
        "outputId": "e04ad88d-6c94-43a4-d473-a9c415ef1122"
      },
      "outputs": [
        {
          "name": "stdout",
          "output_type": "stream",
          "text": [
            "Wall time: 2.14 s\n"
          ]
        }
      ],
      "source": [
        "%%time\n",
        "from sklearn.linear_model import Ridge\n",
        "rig=Ridge()\n",
        "rig.fit(x_train,y_train)\n",
        "lr_predtrain=rig.predict(x_train)\n",
        "lr_predtest=rig.predict(x_test)"
      ]
    },
    {
      "cell_type": "code",
      "execution_count": null,
      "id": "4ceffb40",
      "metadata": {
        "id": "4ceffb40",
        "outputId": "2cf20fae-6a9e-48bc-9d03-8dd80b723209"
      },
      "outputs": [
        {
          "name": "stdout",
          "output_type": "stream",
          "text": [
            "RMSE for train: 320.93811554413406\n",
            "RMSE for test: 317.9513710501007\n"
          ]
        }
      ],
      "source": [
        "print(\"RMSE for train:\",np.sqrt(mean_squared_error(y_train,lr_predtrain)))\n",
        "print(\"RMSE for test:\",np.sqrt(mean_squared_error(y_test,lr_predtest)))"
      ]
    },
    {
      "cell_type": "code",
      "execution_count": null,
      "id": "fa392c8d",
      "metadata": {
        "id": "fa392c8d"
      },
      "outputs": [],
      "source": [
        "param_grid = {'max_depth' : range(1,10), \n",
        "              'min_impurity_decrease' : [0.0001, 0.01]}\n",
        "#A node will be split if this split induces a decrease of "
      ]
    },
    {
      "cell_type": "markdown",
      "source": [
        "#Hyper Parameter Tuning with DecisionTreeRegressor_GridsearchCV\n"
      ],
      "metadata": {
        "id": "c4xuk9dQ8YXR"
      },
      "id": "c4xuk9dQ8YXR"
    },
    {
      "cell_type": "code",
      "execution_count": null,
      "id": "70068023",
      "metadata": {
        "id": "70068023"
      },
      "outputs": [],
      "source": [
        "from sklearn.model_selection import GridSearchCV\n",
        "\n",
        "gdt = GridSearchCV(estimator=d, param_grid=param_grid, cv= 3)\n"
      ]
    },
    {
      "cell_type": "code",
      "execution_count": null,
      "id": "a819b903",
      "metadata": {
        "id": "a819b903",
        "outputId": "404ad073-c175-4728-99a6-71f0e92ce957"
      },
      "outputs": [
        {
          "name": "stdout",
          "output_type": "stream",
          "text": [
            "Wall time: 22min 18s\n"
          ]
        },
        {
          "data": {
            "text/plain": [
              "GridSearchCV(cv=3, estimator=DecisionTreeRegressor(),\n",
              "             param_grid={'max_depth': range(1, 10),\n",
              "                         'min_impurity_decrease': [0.0001, 0.01]})"
            ]
          },
          "execution_count": 19,
          "metadata": {},
          "output_type": "execute_result"
        }
      ],
      "source": [
        "%time gdt.fit(x_train,y_train)"
      ]
    },
    {
      "cell_type": "code",
      "execution_count": null,
      "id": "7b7a30c1",
      "metadata": {
        "id": "7b7a30c1"
      },
      "outputs": [],
      "source": [
        "gdt_predtrain=gdt.predict(x_train)\n",
        "gdt_predtest=gdt.predict(x_test)"
      ]
    },
    {
      "cell_type": "code",
      "execution_count": null,
      "id": "f0ee072f",
      "metadata": {
        "id": "f0ee072f",
        "outputId": "4cdc47ed-d472-48d0-c5d2-08cbc53069e1"
      },
      "outputs": [
        {
          "name": "stdout",
          "output_type": "stream",
          "text": [
            "RMSE for train: 193.5450690914143\n",
            "RMSE for test: 191.69329455432023\n"
          ]
        }
      ],
      "source": [
        "print(\"RMSE for train:\",np.sqrt(mean_squared_error(y_train,gdt_predtrain)))\n",
        "print(\"RMSE for test:\",np.sqrt(mean_squared_error(y_test,gdt_predtest)))"
      ]
    },
    {
      "cell_type": "markdown",
      "source": [
        "#RandomForestRegressor\n",
        "\n",
        "Performing RandomForestRegressor by reading the train data in chucks to reduce the running time of RandomForest."
      ],
      "metadata": {
        "id": "yEyhKjJ08toF"
      },
      "id": "yEyhKjJ08toF"
    },
    {
      "cell_type": "code",
      "execution_count": null,
      "id": "3fcbcf31",
      "metadata": {
        "id": "3fcbcf31",
        "outputId": "9968452f-8bb8-4f3f-e98b-11442e7326c2"
      },
      "outputs": [
        {
          "name": "stdout",
          "output_type": "stream",
          "text": [
            "Wall time: 3min 47s\n"
          ]
        }
      ],
      "source": [
        "%%time\n",
        "from sklearn.ensemble import RandomForestRegressor\n",
        "\n",
        "# Define the chunk size and number of iterations\n",
        "chunk_size = 50000\n",
        "n_iterations = 5\n",
        "\n",
        "# Create an empty Random Forest model\n",
        "rf = RandomForestRegressor(n_estimators=100)\n",
        "\n",
        "# Load the data in chunks\n",
        "for i, chunk in enumerate(pd.read_csv('/content/model_train.csv', chunksize=chunk_size)):\n",
        "    # Split the data into features and target\n",
        "    X_chunk = chunk.drop('yield', axis=1)\n",
        "    Y_chunk = chunk['yield']\n",
        "    \n",
        "    # Concatenate the chunks into X and Y\n",
        "    if i == 0:\n",
        "        X = X_chunk\n",
        "        Y = Y_chunk\n",
        "    else:\n",
        "        X = pd.concat([X, X_chunk], axis=0)\n",
        "        Y = pd.concat([Y, Y_chunk], axis=0)\n",
        "    \n",
        "    # If we've processed enough chunks, split into train and test sets\n",
        "    if i == n_iterations:\n",
        "        X_train, X_test, Y_train, Y_test = train_test_split(X, Y, test_size=0.3)\n",
        "        \n",
        "        # Train the Random Forest model on the training set\n",
        "        rf.fit(X_train, Y_train)\n",
        "        \n",
        "       \n",
        "        # Break out of the loop\n",
        "        break\n"
      ]
    },
    {
      "cell_type": "code",
      "execution_count": null,
      "id": "647af38c",
      "metadata": {
        "id": "647af38c"
      },
      "outputs": [],
      "source": [
        "r_predtest = rf.predict(X_test)\n",
        "r_predtrain=rf.predict(X_train)\n"
      ]
    },
    {
      "cell_type": "code",
      "execution_count": null,
      "id": "19b05d56",
      "metadata": {
        "id": "19b05d56",
        "outputId": "9c8a240b-d356-48a4-fc56-edba073800c2"
      },
      "outputs": [
        {
          "name": "stdout",
          "output_type": "stream",
          "text": [
            "RMSE for train: 6.344596419857986\n",
            "RMSE for test: 15.200913402054711\n"
          ]
        }
      ],
      "source": [
        "print(\"RMSE for train:\",np.sqrt(mean_squared_error(Y_train,r_predtrain)))\n",
        "print(\"RMSE for test:\",np.sqrt(mean_squared_error(Y_test,r_predtest)))"
      ]
    },
    {
      "cell_type": "markdown",
      "source": [
        "#GradientBoostingRegressor"
      ],
      "metadata": {
        "id": "1vSLlRse9gl4"
      },
      "id": "1vSLlRse9gl4"
    },
    {
      "cell_type": "code",
      "execution_count": null,
      "id": "a090b04e",
      "metadata": {
        "id": "a090b04e",
        "outputId": "70f08f1a-34d5-4229-af08-ea2b1654e562"
      },
      "outputs": [
        {
          "name": "stdout",
          "output_type": "stream",
          "text": [
            "Wall time: 22min 27s\n"
          ]
        },
        {
          "data": {
            "text/plain": [
              "GradientBoostingRegressor()"
            ]
          },
          "execution_count": 28,
          "metadata": {},
          "output_type": "execute_result"
        }
      ],
      "source": [
        "%%time\n",
        "from sklearn.ensemble import  GradientBoostingRegressor\n",
        "grad = GradientBoostingRegressor(n_estimators=100)\n",
        "grad.fit(x_train,y_train)\n"
      ]
    },
    {
      "cell_type": "code",
      "execution_count": null,
      "id": "6ec35dd8",
      "metadata": {
        "id": "6ec35dd8"
      },
      "outputs": [],
      "source": [
        "grad_predtrain=grad.predict(x_train)\n",
        "grad_predtest=grad.predict(x_test)"
      ]
    },
    {
      "cell_type": "code",
      "execution_count": null,
      "id": "34f07eaf",
      "metadata": {
        "id": "34f07eaf",
        "outputId": "fed5f9a5-5b4e-4790-c6e8-eeb84b93d66a"
      },
      "outputs": [
        {
          "name": "stdout",
          "output_type": "stream",
          "text": [
            "RMSE for train: 241.93764879047143\n",
            "RMSE for test: 239.24481632092332\n"
          ]
        }
      ],
      "source": [
        "print(\"RMSE for train:\",np.sqrt(mean_squared_error(y_train,grad_predtrain)))\n",
        "print(\"RMSE for test:\",np.sqrt(mean_squared_error(y_test,grad_predtest)))"
      ]
    },
    {
      "cell_type": "markdown",
      "source": [
        "#Neural Networks"
      ],
      "metadata": {
        "id": "rot2lA3R9jtU"
      },
      "id": "rot2lA3R9jtU"
    },
    {
      "cell_type": "code",
      "execution_count": null,
      "id": "330e0b16",
      "metadata": {
        "id": "330e0b16"
      },
      "outputs": [],
      "source": [
        "from tensorflow.keras import Sequential\n",
        "from tensorflow.keras.optimizers import Adam\n",
        "from sklearn.preprocessing import StandardScaler\n",
        "from tensorflow.keras.layers import Dense, Dropout\n"
      ]
    },
    {
      "cell_type": "code",
      "execution_count": null,
      "id": "60156fcd",
      "metadata": {
        "id": "60156fcd"
      },
      "outputs": [],
      "source": [
        "# Initialising the ANN\n",
        "model = Sequential()\n",
        "\n",
        "# Adding the input layer and the first hidden layer\n",
        "model.add(Dense(64, activation = 'relu', input_dim = 11,kernel_initializer='normal'))\n",
        "\n",
        "# Adding the second hidden layer\n",
        "model.add(Dense(units = 64, activation = 'relu',kernel_initializer='normal'))\n",
        "\n",
        "# Adding the third hidden layer\n",
        "model.add(Dense(units = 64, activation = 'relu',kernel_initializer='normal'))\n",
        "\n",
        "# Adding the output layer\n",
        "\n",
        "model.add(Dense(units = 1, activation='linear',kernel_initializer='normal'))"
      ]
    },
    {
      "cell_type": "code",
      "execution_count": null,
      "id": "c0c1b2cf",
      "metadata": {
        "id": "c0c1b2cf",
        "outputId": "a3c70710-3f47-4265-e7a8-552e38859c55"
      },
      "outputs": [
        {
          "name": "stdout",
          "output_type": "stream",
          "text": [
            "Epoch 1/50\n",
            "8589/8589 [==============================] - 26s 3ms/step - loss: 117576.2734\n",
            "Epoch 2/50\n",
            "8589/8589 [==============================] - 24s 3ms/step - loss: 104243.9844\n",
            "Epoch 3/50\n",
            "8589/8589 [==============================] - 24s 3ms/step - loss: 104038.7812\n",
            "Epoch 4/50\n",
            "8589/8589 [==============================] - 25s 3ms/step - loss: 103970.9844\n",
            "Epoch 5/50\n",
            "8589/8589 [==============================] - 25s 3ms/step - loss: 103886.5312\n",
            "Epoch 6/50\n",
            "8589/8589 [==============================] - 25s 3ms/step - loss: 103690.7344\n",
            "Epoch 7/50\n",
            "8589/8589 [==============================] - 25s 3ms/step - loss: 103564.0547\n",
            "Epoch 8/50\n",
            "8589/8589 [==============================] - 26s 3ms/step - loss: 103217.8125\n",
            "Epoch 9/50\n",
            "8589/8589 [==============================] - 26s 3ms/step - loss: 102576.6875\n",
            "Epoch 10/50\n",
            "8589/8589 [==============================] - 26s 3ms/step - loss: 101687.1172\n",
            "Epoch 11/50\n",
            "8589/8589 [==============================] - 26s 3ms/step - loss: 101073.8828\n",
            "Epoch 12/50\n",
            "8589/8589 [==============================] - 26s 3ms/step - loss: 100662.6094\n",
            "Epoch 13/50\n",
            "8589/8589 [==============================] - 27s 3ms/step - loss: 100108.2969\n",
            "Epoch 14/50\n",
            "8589/8589 [==============================] - 27s 3ms/step - loss: 99398.4609\n",
            "Epoch 15/50\n",
            "8589/8589 [==============================] - 27s 3ms/step - loss: 98502.0312\n",
            "Epoch 16/50\n",
            "8589/8589 [==============================] - 27s 3ms/step - loss: 97546.0078\n",
            "Epoch 17/50\n",
            "8589/8589 [==============================] - 28s 3ms/step - loss: 96586.3906\n",
            "Epoch 18/50\n",
            "8589/8589 [==============================] - 27s 3ms/step - loss: 95931.2109\n",
            "Epoch 19/50\n",
            "8589/8589 [==============================] - 27s 3ms/step - loss: 95168.1641\n",
            "Epoch 20/50\n",
            "8589/8589 [==============================] - 27s 3ms/step - loss: 95563.1875\n",
            "Epoch 21/50\n",
            "8589/8589 [==============================] - 28s 3ms/step - loss: 94266.3828\n",
            "Epoch 22/50\n",
            "8589/8589 [==============================] - 28s 3ms/step - loss: 92747.5312\n",
            "Epoch 23/50\n",
            "8589/8589 [==============================] - 28s 3ms/step - loss: 95729.1328\n",
            "Epoch 24/50\n",
            "8589/8589 [==============================] - 29s 3ms/step - loss: 95690.2734\n",
            "Epoch 25/50\n",
            "8589/8589 [==============================] - 30s 4ms/step - loss: 94877.0391\n",
            "Epoch 26/50\n",
            "8589/8589 [==============================] - 30s 3ms/step - loss: 94361.3359\n",
            "Epoch 27/50\n",
            "8589/8589 [==============================] - 30s 3ms/step - loss: 93822.3203\n",
            "Epoch 28/50\n",
            "8589/8589 [==============================] - 30s 4ms/step - loss: 93202.5469\n",
            "Epoch 29/50\n",
            "8589/8589 [==============================] - 30s 4ms/step - loss: 91932.9844\n",
            "Epoch 30/50\n",
            "8589/8589 [==============================] - 31s 4ms/step - loss: 96416.4141\n",
            "Epoch 31/50\n",
            "8589/8589 [==============================] - 32s 4ms/step - loss: 96497.2109\n",
            "Epoch 32/50\n",
            "8589/8589 [==============================] - 32s 4ms/step - loss: 95974.1094\n",
            "Epoch 33/50\n",
            "8589/8589 [==============================] - 32s 4ms/step - loss: 95613.7500\n",
            "Epoch 34/50\n",
            "8589/8589 [==============================] - 32s 4ms/step - loss: 95180.3750\n",
            "Epoch 35/50\n",
            "8589/8589 [==============================] - 33s 4ms/step - loss: 94771.9141\n",
            "Epoch 36/50\n",
            "8589/8589 [==============================] - 33s 4ms/step - loss: 94324.5000\n",
            "Epoch 37/50\n",
            "8589/8589 [==============================] - 34s 4ms/step - loss: 93820.2109\n",
            "Epoch 38/50\n",
            "8589/8589 [==============================] - 35s 4ms/step - loss: 93445.9609\n",
            "Epoch 39/50\n",
            "8589/8589 [==============================] - 35s 4ms/step - loss: 93015.9375\n",
            "Epoch 40/50\n",
            "8589/8589 [==============================] - 36s 4ms/step - loss: 92764.0547\n",
            "Epoch 41/50\n",
            "8589/8589 [==============================] - 36s 4ms/step - loss: 92241.6562\n",
            "Epoch 42/50\n",
            "8589/8589 [==============================] - 37s 4ms/step - loss: 91956.7188\n",
            "Epoch 43/50\n",
            "8589/8589 [==============================] - 38s 4ms/step - loss: 91410.0156\n",
            "Epoch 44/50\n",
            "8589/8589 [==============================] - 38s 4ms/step - loss: 91016.4922\n",
            "Epoch 45/50\n",
            "8589/8589 [==============================] - 39s 5ms/step - loss: 90847.8672\n",
            "Epoch 46/50\n",
            "8589/8589 [==============================] - 40s 5ms/step - loss: 90471.5156\n",
            "Epoch 47/50\n",
            "8589/8589 [==============================] - 41s 5ms/step - loss: 90210.6484\n",
            "Epoch 48/50\n",
            "8589/8589 [==============================] - 42s 5ms/step - loss: 89193.0156\n",
            "Epoch 49/50\n",
            "8589/8589 [==============================] - 43s 5ms/step - loss: 88194.2266\n",
            "Epoch 50/50\n",
            "8589/8589 [==============================] - 43s 5ms/step - loss: 87399.8203\n",
            "Wall time: 25min 47s\n"
          ]
        },
        {
          "data": {
            "text/plain": [
              "<keras.callbacks.History at 0x1ce60e67730>"
            ]
          },
          "execution_count": 33,
          "metadata": {},
          "output_type": "execute_result"
        }
      ],
      "source": [
        "%%time\n",
        "model.compile(optimizer = 'adam', loss = 'mean_squared_error')\n",
        "\n",
        "# Fitting the ANN to the Training set\n",
        "model.fit(x_train, y_train, batch_size = 1000, epochs = 50)"
      ]
    },
    {
      "cell_type": "code",
      "execution_count": null,
      "id": "50af54f6",
      "metadata": {
        "id": "50af54f6",
        "outputId": "351c7604-e680-4ec5-be18-59d989f6afdb"
      },
      "outputs": [
        {
          "name": "stdout",
          "output_type": "stream",
          "text": [
            "268404/268404 [==============================] - 379s 1ms/step\n",
            "115031/115031 [==============================] - 277s 2ms/step\n"
          ]
        }
      ],
      "source": [
        "nn_predtrain=model.predict(x_train)\n",
        "nn_predtest=model.predict(x_test)"
      ]
    },
    {
      "cell_type": "code",
      "execution_count": null,
      "id": "d922dc09",
      "metadata": {
        "id": "d922dc09",
        "outputId": "f92ed765-81e2-4fe6-a0b6-49e22cf367d3"
      },
      "outputs": [
        {
          "name": "stdout",
          "output_type": "stream",
          "text": [
            "RMSE for train: 310.61114637703633\n",
            "RMSE for test: 307.81549174129094\n"
          ]
        }
      ],
      "source": [
        "print(\"RMSE for train:\",np.sqrt(mean_squared_error(y_train,nn_predtrain)))\n",
        "print(\"RMSE for test:\",np.sqrt(mean_squared_error(y_test,nn_predtest)))"
      ]
    },
    {
      "cell_type": "markdown",
      "source": [
        "#Evaluate the model\n",
        "\n",
        "Evaluating the performance of the model on the validation set. This includes calculating metrics like RMSE for each model."
      ],
      "metadata": {
        "id": "aSTz7tST9rGz"
      },
      "id": "aSTz7tST9rGz"
    },
    {
      "cell_type": "code",
      "execution_count": null,
      "id": "3e85701d",
      "metadata": {
        "id": "3e85701d",
        "outputId": "6f775631-ce0f-4090-c4e0-744f5095b1b0"
      },
      "outputs": [
        {
          "data": {
            "text/html": [
              "<div>\n",
              "<style scoped>\n",
              "    .dataframe tbody tr th:only-of-type {\n",
              "        vertical-align: middle;\n",
              "    }\n",
              "\n",
              "    .dataframe tbody tr th {\n",
              "        vertical-align: top;\n",
              "    }\n",
              "\n",
              "    .dataframe thead th {\n",
              "        text-align: right;\n",
              "    }\n",
              "</style>\n",
              "<table border=\"1\" class=\"dataframe\">\n",
              "  <thead>\n",
              "    <tr style=\"text-align: right;\">\n",
              "      <th></th>\n",
              "      <th>Model</th>\n",
              "      <th>RMSE_score_train</th>\n",
              "      <th>RMSE_score_test</th>\n",
              "    </tr>\n",
              "  </thead>\n",
              "  <tbody>\n",
              "    <tr>\n",
              "      <th>0</th>\n",
              "      <td>LinearRegressor</td>\n",
              "      <td>320.938116</td>\n",
              "      <td>317.951372</td>\n",
              "    </tr>\n",
              "    <tr>\n",
              "      <th>1</th>\n",
              "      <td>Ridge</td>\n",
              "      <td>320.938116</td>\n",
              "      <td>317.951371</td>\n",
              "    </tr>\n",
              "    <tr>\n",
              "      <th>2</th>\n",
              "      <td>DecisioTreeRegressor</td>\n",
              "      <td>46.506993</td>\n",
              "      <td>142.194453</td>\n",
              "    </tr>\n",
              "    <tr>\n",
              "      <th>3</th>\n",
              "      <td>RandomForestRegressor</td>\n",
              "      <td>6.344596</td>\n",
              "      <td>15.200913</td>\n",
              "    </tr>\n",
              "    <tr>\n",
              "      <th>4</th>\n",
              "      <td>Decision_grid_search</td>\n",
              "      <td>193.545069</td>\n",
              "      <td>191.693295</td>\n",
              "    </tr>\n",
              "    <tr>\n",
              "      <th>5</th>\n",
              "      <td>Gradient_Boosting</td>\n",
              "      <td>241.937649</td>\n",
              "      <td>239.244816</td>\n",
              "    </tr>\n",
              "    <tr>\n",
              "      <th>6</th>\n",
              "      <td>Neural Networks</td>\n",
              "      <td>310.611146</td>\n",
              "      <td>307.815492</td>\n",
              "    </tr>\n",
              "  </tbody>\n",
              "</table>\n",
              "</div>"
            ],
            "text/plain": [
              "                   Model  RMSE_score_train  RMSE_score_test\n",
              "0        LinearRegressor        320.938116       317.951372\n",
              "1                  Ridge        320.938116       317.951371\n",
              "2   DecisioTreeRegressor         46.506993       142.194453\n",
              "3  RandomForestRegressor          6.344596        15.200913\n",
              "4   Decision_grid_search        193.545069       191.693295\n",
              "5      Gradient_Boosting        241.937649       239.244816\n",
              "6        Neural Networks        310.611146       307.815492"
            ]
          },
          "execution_count": 36,
          "metadata": {},
          "output_type": "execute_result"
        }
      ],
      "source": [
        "data={\"Model\":['LinearRegressor','Ridge','DecisioTreeRegressor','RandomForestRegressor','Decision_grid_search','Gradient_Boosting','Neural Networks'],\"RMSE_score_train\":[np.sqrt(mean_squared_error(y_train,predtrain)),np.sqrt(mean_squared_error(y_train,lr_predtrain)),np.sqrt(mean_squared_error(y_train,d_predtrain)),np.sqrt(mean_squared_error(Y_train,r_predtrain)),np.sqrt(mean_squared_error(y_train,gdt_predtrain)),np.sqrt(mean_squared_error(y_train,grad_predtrain)),np.sqrt(mean_squared_error(y_train,nn_predtrain))],\"RMSE_score_test\":[np.sqrt(mean_squared_error(y_test,predtest)),np.sqrt(mean_squared_error(y_test,lr_predtest)),np.sqrt(mean_squared_error(y_test,d_predtest)),np.sqrt(mean_squared_error(Y_test,r_predtest)),np.sqrt(mean_squared_error(y_test,gdt_predtest)),np.sqrt(mean_squared_error(y_test,grad_predtest)),np.sqrt(mean_squared_error(y_test,nn_predtest))]}\n",
        "data=pd.DataFrame(data)\n",
        "data"
      ]
    },
    {
      "cell_type": "markdown",
      "source": [
        "#LSTM(Long Short-Term Memory)\n",
        "\n",
        "It is not performed due to high running and facing memory issues."
      ],
      "metadata": {
        "id": "oNkgcj0H-NHD"
      },
      "id": "oNkgcj0H-NHD"
    },
    {
      "cell_type": "code",
      "execution_count": null,
      "id": "fc7c656b",
      "metadata": {
        "id": "fc7c656b"
      },
      "outputs": [],
      "source": [
        "# import pandas as pd\n",
        "# import numpy as np\n",
        "# from sklearn.preprocessing import MinMaxScaler\n",
        "# from keras.models import Sequential\n",
        "# from keras.layers import Dense, LSTM, BatchNormalization, Dropout\n",
        "# from sklearn.metrics import mean_squared_error\n",
        "# import matplotlib.pyplot as plt\n",
        "\n",
        "# # Load the data\n",
        "# # df = pd.read_csv('data.csv')\n",
        "# # df = df.set_index('date')\n",
        "\n",
        "# # # Scale the data\n",
        "# # scaler = MinMaxScaler(feature_range=(0, 1))\n",
        "# # scaled_data = scaler.fit_transform(df.values)\n",
        "\n",
        "# # Define the time steps and features\n",
        "# timesteps = 3\n",
        "# features = train.shape[1]\n",
        "\n",
        "# # Split the data into train and test sets\n",
        "# # train_size = int(len(scaled_data) * 0.8)\n",
        "# train_data = x\n",
        "# test_data =  Y_chunk\n",
        "\n",
        "\n",
        "# # Reshape the training data to have the same shape as the output\n",
        "# train_data = np.array(train_data).reshape(-1, timesteps, features)\n",
        "\n",
        "# # Create the time-series generator objects\n",
        "# from keras.preprocessing.sequence import TimeseriesGenerator\n",
        "# train_generator = TimeseriesGenerator(train_data, train_data, length=timesteps, batch_size=32)\n",
        "\n",
        "# # Define the LSTM model\n",
        "# model = Sequential()\n",
        "# model.add(LSTM(64, return_sequences=True, input_shape=(timesteps, features)))\n",
        "# model.add(BatchNormalization())\n",
        "# model.add(LSTM(64, return_sequences=True))\n",
        "# model.add(BatchNormalization())\n",
        "# model.add(Dropout(0.2))\n",
        "# model.add(Dense(features))\n",
        "\n",
        "# # Compile the model\n",
        "# model.compile(loss='mean_squared_error', optimizer='adam')\n",
        "\n",
        "# # Fit the model\n",
        "# model.fit(train_generator, epochs=50, verbose=2)\n",
        "\n",
        "# # Predict the next year's yield using the last 3 months of data\n",
        "# last_3_months = Y_chunk.values.reshape(1, timesteps, features)\n",
        "# predicted_yield = []\n",
        "# for i in range(12):\n",
        "#     next_month_yield = model.predict(last_3_months)[0][-1]\n",
        "#     predicted_yield.append(next_month_yield[0])\n",
        "#     last_3_months = np.append(last_3_months[:, 1:, :], [[next_month_yield]], axis=1)\n",
        "\n",
        "# # Inverse scale the predicted yield values\n",
        "# predicted_yield = scaler.inverse_transform(np.array(predicted_yield).reshape(-1, 1)).reshape(-1)\n",
        "\n",
        "# # Calculate RMSE value\n",
        "# actual_yield = train['yield'].values\n",
        "# rmse = np.sqrt(mean_squared_error(actual_yield, predicted_yield))\n",
        "# print(f'RMSE value: {rmse}')\n",
        "\n",
        "\n"
      ]
    },
    {
      "cell_type": "markdown",
      "source": [
        "#Predictions an Test data"
      ],
      "metadata": {
        "id": "ANI1PHOp-ggB"
      },
      "id": "ANI1PHOp-ggB"
    },
    {
      "cell_type": "code",
      "execution_count": null,
      "id": "a16fa4c9",
      "metadata": {
        "id": "a16fa4c9"
      },
      "outputs": [],
      "source": [
        "test_perd_lr=lr.predict(test_df)\n",
        "sub_lr=pd.DataFrame({\"id\":ids,'yield':test_perd_lr})\n",
        "sub_lr.to_csv(\"submission_lr.csv\",index=False)\n"
      ]
    },
    {
      "cell_type": "code",
      "execution_count": null,
      "id": "5b950bdf",
      "metadata": {
        "id": "5b950bdf"
      },
      "outputs": [],
      "source": [
        "sub_lr=pd.read_csv(\"submission_lr.csv\")\n",
        "sub_lr.head()"
      ]
    },
    {
      "cell_type": "code",
      "execution_count": null,
      "id": "69ca99ec",
      "metadata": {
        "id": "69ca99ec"
      },
      "outputs": [],
      "source": [
        "test_perd_d=d.predict(test_df)\n",
        "sub_d=pd.DataFrame({\"id\":ids,'yield':test_perd_d})\n",
        "sub_d.to_csv(\"submission_d.csv\",index=False)\n"
      ]
    },
    {
      "cell_type": "code",
      "execution_count": null,
      "id": "e4b38e14",
      "metadata": {
        "id": "e4b38e14"
      },
      "outputs": [],
      "source": [
        "sub_d=pd.read_csv(\"submission_d.csv\")\n",
        "sub_d.head()"
      ]
    },
    {
      "cell_type": "code",
      "execution_count": null,
      "id": "4c4808c2",
      "metadata": {
        "id": "4c4808c2"
      },
      "outputs": [],
      "source": [
        "test_perd_rf=rf.predict(test_df)\n",
        "sub_rf=pd.DataFrame({\"id\":ids,'yield':test_perd_rf})\n",
        "sub_rf.to_csv(\"submission_rf.csv\",index=False)\n"
      ]
    },
    {
      "cell_type": "code",
      "execution_count": null,
      "id": "c6a33661",
      "metadata": {
        "id": "c6a33661"
      },
      "outputs": [],
      "source": [
        "sub_rf=pd.read_csv(\"submission_rf.csv\")\n",
        "sub_rf.head()"
      ]
    },
    {
      "cell_type": "code",
      "execution_count": null,
      "id": "1c0af4e5",
      "metadata": {
        "id": "1c0af4e5"
      },
      "outputs": [],
      "source": [
        "test_perd_grad=grad.predict(test_df)\n",
        "sub_grad=pd.DataFrame({\"id\":ids,'yield':test_perd_grad})\n",
        "sub_grad.to_csv(\"submission_grad.csv\",index=False)\n"
      ]
    },
    {
      "cell_type": "code",
      "execution_count": null,
      "id": "167e0b53",
      "metadata": {
        "id": "167e0b53"
      },
      "outputs": [],
      "source": []
    },
    {
      "cell_type": "code",
      "execution_count": null,
      "id": "6ce95401",
      "metadata": {
        "id": "6ce95401"
      },
      "outputs": [],
      "source": [
        "sub_grad=pd.read_csv(\"submission_grad.csv\")\n",
        "sub_grad.head()"
      ]
    },
    {
      "cell_type": "code",
      "execution_count": null,
      "id": "bad519a1",
      "metadata": {
        "id": "bad519a1"
      },
      "outputs": [],
      "source": [
        "# test_perd_nn=model.predict(test_df)\n"
      ]
    },
    {
      "cell_type": "code",
      "execution_count": null,
      "id": "0937679d",
      "metadata": {
        "id": "0937679d"
      },
      "outputs": [],
      "source": [
        "sub_nn=pd.DataFrame({\"id\":ids,'yield':test_perd_nn.reshape(-1)})\n",
        "sub_nn.to_csv(\"submission_nn.csv\",index=False)\n",
        "# print(test_df.shape)\n",
        "# print(ids.shape)\n"
      ]
    },
    {
      "cell_type": "code",
      "execution_count": null,
      "id": "ba583142",
      "metadata": {
        "id": "ba583142"
      },
      "outputs": [],
      "source": [
        "sub_nn=pd.read_csv(\"submission_nn.csv\")\n",
        "sub_nn.head()"
      ]
    },
    {
      "cell_type": "markdown",
      "source": [
        "#Conclusion:\n",
        "\n",
        "The successful implementation of Random Forest Regression in the development of a Robust Yield Prediction model using a dataset that includes various parameters related to yield has demonstrated the efficacy of Artificial Intelligence in the agricultural sector. This highlights the current trend of using AI techniques and methodologies to enhance accuracy and identify solutions in agriculture. Furthermore, the versatile nature of machine learning algorithms allows for their implementation in various fields, including agriculture."
      ],
      "metadata": {
        "id": "4xKi3l_cMSDw"
      },
      "id": "4xKi3l_cMSDw"
    }
  ],
  "metadata": {
    "kernelspec": {
      "display_name": "Python 3 (ipykernel)",
      "language": "python",
      "name": "python3"
    },
    "language_info": {
      "codemirror_mode": {
        "name": "ipython",
        "version": 3
      },
      "file_extension": ".py",
      "mimetype": "text/x-python",
      "name": "python",
      "nbconvert_exporter": "python",
      "pygments_lexer": "ipython3",
      "version": "3.9.13"
    },
    "colab": {
      "provenance": []
    }
  },
  "nbformat": 4,
  "nbformat_minor": 5
}